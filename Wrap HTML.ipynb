{
 "cells": [
  {
   "cell_type": "code",
   "execution_count": 2,
   "metadata": {},
   "outputs": [
    {
     "name": "stdout",
     "output_type": "stream",
     "text": [
      "Requirement already satisfied: mako in c:\\users\\serobabov_as\\appdata\\local\\continuum\\anaconda3\\lib\\site-packages\n",
      "Requirement already satisfied: MarkupSafe>=0.9.2 in c:\\users\\serobabov_as\\appdata\\local\\continuum\\anaconda3\\lib\\site-packages (from mako)\n"
     ]
    },
    {
     "name": "stderr",
     "output_type": "stream",
     "text": [
      "You are using pip version 9.0.1, however version 18.0 is available.\n",
      "You should consider upgrading via the 'python -m pip install --upgrade pip' command.\n"
     ]
    }
   ],
   "source": [
    "#!pip install yattag\n",
    "!pip install mako\n",
    "#from yattag import Doc\n",
    "import csv\n",
    "import codecs\n",
    "from mako.template import Template"
   ]
  },
  {
   "cell_type": "code",
   "execution_count": 3,
   "metadata": {
    "collapsed": true
   },
   "outputs": [],
   "source": [
    "#doc = Doc()\n",
    "#tag = doc.tag\n",
    "#text = doc.text"
   ]
  },
  {
   "cell_type": "code",
   "execution_count": 4,
   "metadata": {
    "collapsed": true
   },
   "outputs": [],
   "source": [
    "itemprop = ['eduCode', 'eduName', 'eduLevel', 'eduForm', 'numberBFpriem', 'numberBRpriem', 'scorePrirem', '', '', '']\n",
    "\n",
    "#def csv_reader(itemprop, doc, tag, text):\n",
    "#    path=input()\n",
    "#    csvReader = csv.reader(codecs.open(path, 'rU', 'utf-16'), delimiter=',')\n",
    "#    for row in csvReader:\n",
    "#        index = 0\n",
    "#       with tag('tr'):\n",
    "#           for col in row:\n",
    "#                with tag('td', ('itemprop', itemprop[index])):\n",
    "#                    text(col)\n",
    "#                    index += 1\n",
    "#    print(doc.getvalue())\n",
    "#csv_reader( itemprop, doc, tag, text)"
   ]
  },
  {
   "cell_type": "code",
   "execution_count": null,
   "metadata": {},
   "outputs": [
    {
     "name": "stdout",
     "output_type": "stream",
     "text": [
      "please input file name\n",
      "s\n",
      "некорректный ввод данных\n"
     ]
    }
   ],
   "source": [
    "textInputFileName = \"please input file name\"\n",
    "print(textInputFileName)\n",
    "def csvRead():\n",
    "    path=input()  \n",
    "    try:\n",
    "        csvReader = csv.reader(codecs.open(path, 'rU', 'utf-16'), delimiter=',')\n",
    "    except FileNotFoundError: \n",
    "        print(\"некорректный ввод данных\")\n",
    "        csvReader = csvRead()\n",
    "    return csvReader\n",
    "csvReader=csvRead()\n",
    "textInputTemplateName = \"please input template name\"\n",
    "print(textInputTemplateName)\n",
    "def templateRead():\n",
    "    filename=input()  \n",
    "    try:\n",
    "        mytemplate = Template(filename=filename)\n",
    "    except FileNotFoundError: \n",
    "        print(\"некорректный ввод данных\")\n",
    "        mytemplate = templateRead()\n",
    "    return mytemplate\n",
    "mytemplate = templateRead()\n",
    "print(mytemplate.render(itemprop=itemprop, csvReader=csvReader))"
   ]
  },
  {
   "cell_type": "code",
   "execution_count": null,
   "metadata": {
    "collapsed": true
   },
   "outputs": [],
   "source": []
  },
  {
   "cell_type": "code",
   "execution_count": null,
   "metadata": {
    "collapsed": true
   },
   "outputs": [],
   "source": []
  }
 ],
 "metadata": {
  "kernelspec": {
   "display_name": "Python 3",
   "language": "python",
   "name": "python3"
  },
  "language_info": {
   "codemirror_mode": {
    "name": "ipython",
    "version": 3
   },
   "file_extension": ".py",
   "mimetype": "text/x-python",
   "name": "python",
   "nbconvert_exporter": "python",
   "pygments_lexer": "ipython3",
   "version": "3.6.3"
  }
 },
 "nbformat": 4,
 "nbformat_minor": 2
}
